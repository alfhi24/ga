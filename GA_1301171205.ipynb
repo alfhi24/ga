{
  "nbformat": 4,
  "nbformat_minor": 0,
  "metadata": {
    "colab": {
      "name": "GA_1301171205.ipynb",
      "provenance": [],
      "collapsed_sections": []
    },
    "kernelspec": {
      "name": "python3",
      "display_name": "Python 3"
    }
  },
  "cells": [
    {
      "cell_type": "code",
      "metadata": {
        "id": "PmIjKTEoN4H4",
        "colab_type": "code",
        "colab": {}
      },
      "source": [
        "from mpl_toolkits import mplot3d\n",
        "%matplotlib inline\n",
        "import numpy as np\n",
        "import matplotlib.pyplot as plt"
      ],
      "execution_count": 0,
      "outputs": []
    },
    {
      "cell_type": "code",
      "metadata": {
        "id": "ssVyLNi9N9T9",
        "colab_type": "code",
        "colab": {}
      },
      "source": [
        "ukpop = 20\n",
        "gen = 16\n",
        "pc = 0.5\n",
        "pm = 0.5"
      ],
      "execution_count": 0,
      "outputs": []
    },
    {
      "cell_type": "markdown",
      "metadata": {
        "id": "O-DrbU8N4puq",
        "colab_type": "text"
      },
      "source": [
        "**Inisiasi populasi awal**\n",
        "*Integer encoding*"
      ]
    },
    {
      "cell_type": "code",
      "metadata": {
        "id": "TJx65J5NOJQD",
        "colab_type": "code",
        "colab": {}
      },
      "source": [
        "def generate_populasi(ukpop, gen) :\n",
        "  populasi = []\n",
        "  for i in range (ukpop) :\n",
        "    populasi.append(np.random.randint(low=0, high=9, size=gen))\n",
        "\n",
        "  return populasi\n",
        "populasi = generate_populasi(ukpop, gen) "
      ],
      "execution_count": 0,
      "outputs": []
    },
    {
      "cell_type": "markdown",
      "metadata": {
        "id": "e_Nr_lLG4ySl",
        "colab_type": "text"
      },
      "source": [
        "**Find Phenotype (Decoding)**"
      ]
    },
    {
      "cell_type": "code",
      "metadata": {
        "id": "BJ51u_90PS9A",
        "colab_type": "code",
        "colab": {}
      },
      "source": [
        "def phenotype(individu) :\n",
        "  pembagi_x1 = 0\n",
        "  pengali_x1 = 0\n",
        "  pembagi_x2 = 0\n",
        "  pengali_x2 = 0\n",
        "  \n",
        "  ra_x1 = 3\n",
        "  rb_x1 = -3\n",
        "  ra_x2 = 2\n",
        "  rb_x2 = -2\n",
        "  j = 1\n",
        "  k = 1\n",
        "  for i in range (len(individu)) :\n",
        "    if (i < len(individu) / 2) :\n",
        "      pengali_x1 += (individu[i] * (1 / np.power(10, j)))\n",
        "      pembagi_x1 += (1 / np.power(2, j))\n",
        "      j += 1\n",
        "    else :\n",
        "      pengali_x2 += (individu[i] * (1 / np.power(10, k)))\n",
        "      pembagi_x2 += (1 / np.power(2, k))\n",
        "      k += 1\n",
        "  \n",
        "  x1 = rb_x1 + ((ra_x1 - rb_x1) * pengali_x1 / pembagi_x1)\n",
        "  x2 = rb_x2 + ((ra_x2 - rb_x2) * pengali_x2 / pembagi_x2)\n",
        "  \n",
        "  fen = []\n",
        "  fen.append(x1)\n",
        "  fen.append(x2)\n",
        "  \n",
        "  return fen"
      ],
      "execution_count": 0,
      "outputs": []
    },
    {
      "cell_type": "markdown",
      "metadata": {
        "id": "PVTkF2fj5E9L",
        "colab_type": "text"
      },
      "source": [
        "**Calculate Fitness**"
      ]
    },
    {
      "cell_type": "code",
      "metadata": {
        "id": "UbXddA4iRjdD",
        "colab_type": "code",
        "colab": {}
      },
      "source": [
        "def fitness(individu) :\n",
        "  a = 0.01\n",
        "  f = 1 / (((4 - 2 * (phenotype(individu)[0] ** 2) + (phenotype(individu)[0] ** 4) / 3) * (phenotype(individu)[0] ** 2 + (phenotype(individu)[0] * phenotype(individu)[1]) + (-4 + 4 * (phenotype(individu)[1] ** 2)) * (phenotype(individu)[1] ** 2))) + a)\n",
        "  return f"
      ],
      "execution_count": 0,
      "outputs": []
    },
    {
      "cell_type": "markdown",
      "metadata": {
        "id": "HcIb2H4M5LiD",
        "colab_type": "text"
      },
      "source": [
        "**Total fitness**"
      ]
    },
    {
      "cell_type": "code",
      "metadata": {
        "id": "JCTxumScTCaJ",
        "colab_type": "code",
        "colab": {}
      },
      "source": [
        "def total_fitness(populasi) :\n",
        "  total = 0\n",
        "  for i in range (len(populasi)) :\n",
        "    total += fitness(populasi[i])\n",
        "    \n",
        "  return total"
      ],
      "execution_count": 0,
      "outputs": []
    },
    {
      "cell_type": "markdown",
      "metadata": {
        "id": "oS1IcniS5PIx",
        "colab_type": "text"
      },
      "source": [
        "**Return individu with the biggest fitness**"
      ]
    },
    {
      "cell_type": "code",
      "metadata": {
        "id": "Y5vAyiXRTfVL",
        "colab_type": "code",
        "colab": {}
      },
      "source": [
        "def max_fitness(populasi) :\n",
        "  fit = []\n",
        "  for i in range (len(populasi)) :\n",
        "    fit.append(fitness(populasi[i]))\n",
        "  max = 0\n",
        "  for i in range(len(populasi)) :\n",
        "    if (max < fit[i]) :\n",
        "      max = fit[i]\n",
        "  idx = fit.index(max)\n",
        "  return populasi[idx]"
      ],
      "execution_count": 0,
      "outputs": []
    },
    {
      "cell_type": "markdown",
      "metadata": {
        "id": "E3BpLVrQ5ePL",
        "colab_type": "text"
      },
      "source": [
        "**Roulette wheel**"
      ]
    },
    {
      "cell_type": "code",
      "metadata": {
        "id": "5WjGJJXgVcxt",
        "colab_type": "code",
        "colab": {}
      },
      "source": [
        "def RW (fitness, total_fitness) :\n",
        "  val = fitness / total_fitness\n",
        "  return val"
      ],
      "execution_count": 0,
      "outputs": []
    },
    {
      "cell_type": "code",
      "metadata": {
        "id": "pm7g64YQWdz-",
        "colab_type": "code",
        "colab": {}
      },
      "source": [
        "def CRW (populasi) :\n",
        "  c = 0\n",
        "  ar_c = []\n",
        "  for i in range (len(populasi)) :\n",
        "    c += RW(fitness(populasi[i]), total_fitness(populasi))\n",
        "    ar_c.append(c)\n",
        "  return ar_c\n"
      ],
      "execution_count": 0,
      "outputs": []
    },
    {
      "cell_type": "markdown",
      "metadata": {
        "id": "vaLyIi345lvB",
        "colab_type": "text"
      },
      "source": [
        "**Parent selection with Roulette wheel**"
      ]
    },
    {
      "cell_type": "code",
      "metadata": {
        "id": "HQv4vYIsYAyz",
        "colab_type": "code",
        "colab": {}
      },
      "source": [
        "def parent_selection(populasi) :\n",
        "  parent = []\n",
        "  for i in range(len(populasi)) :\n",
        "    ketemu = 'false'\n",
        "    r = np.random.uniform(low = np.amin(CRW(populasi)), high = np.amax(CRW(populasi)))\n",
        "    j = 0\n",
        "    while ((ketemu != 'true') and (j < len(populasi))) :\n",
        "      if (j == 0) :\n",
        "        if (r <= CRW(populasi)[0]) :\n",
        "          parent.append(populasi[0])\n",
        "          ketemu = 'true'\n",
        "      else :\n",
        "        if (r <= CRW(populasi)[j] and r > CRW(populasi)[j-1]) :\n",
        "          parent.append(populasi[j])\n",
        "          ketemu = 'true'\n",
        "      j += 1\n",
        "  return parent\n",
        "\n",
        "par = np.copy(parent_selection(populasi))"
      ],
      "execution_count": 0,
      "outputs": []
    },
    {
      "cell_type": "markdown",
      "metadata": {
        "id": "tmcjnqit5tF7",
        "colab_type": "text"
      },
      "source": [
        "**Crossover**"
      ]
    },
    {
      "cell_type": "code",
      "metadata": {
        "id": "ouPIdsMs5DTH",
        "colab_type": "code",
        "colab": {}
      },
      "source": [
        "def crossover(individu1, individu2, pc) :\n",
        "  anak = []\n",
        "  anak1 = []\n",
        "  anak2 = []\n",
        "  titik = np.random.randint(1, len(individu1) - 1)\n",
        "  p = np.random.uniform()\n",
        "  if (p >= pc) :\n",
        "    for j in range (len(individu1)) :\n",
        "      if (j < titik) :\n",
        "        anak1.append(individu2[j])\n",
        "        anak2.append(individu1[j])\n",
        "      else :\n",
        "        anak1.append(individu1[j])\n",
        "        anak2.append(individu2[j])\n",
        "    anak.append(anak1)\n",
        "    anak.append(anak2)\n",
        "  else :\n",
        "    for j in range (len(individu1)) :\n",
        "      anak1.append(individu1[j])\n",
        "      anak2.append(individu2[j])\n",
        "    anak.append(anak1)\n",
        "    anak.append(anak2)\n",
        "  return anak\n",
        "\n",
        "pos = 0\n",
        "cross = []\n",
        "i = 0\n",
        "for i in range (ukpop//2) :\n",
        "  cross.append(crossover(par[pos], par[pos+1], pc)[0])\n",
        "  cross.append(crossover(par[pos], par[pos+1], pc)[1])\n",
        "  pos += 2\n"
      ],
      "execution_count": 0,
      "outputs": []
    },
    {
      "cell_type": "markdown",
      "metadata": {
        "id": "Uzp7zfdj5wZb",
        "colab_type": "text"
      },
      "source": [
        "**Mutation**"
      ]
    },
    {
      "cell_type": "code",
      "metadata": {
        "id": "7QRgz99iB3dd",
        "colab_type": "code",
        "colab": {}
      },
      "source": [
        "def mutasi(cross, pm) :  \n",
        "  ar_mut = np.copy(cross)\n",
        "  for i in range (len(ar_mut)) :\n",
        "    rm = np.random.randint(0,9)\n",
        "    j = 0\n",
        "    p = np.random.uniform()\n",
        "    if (p >= pm) :\n",
        "      for j in range(len(ar_mut[i])) :\n",
        "        if (cross[i][j] == rm) :\n",
        "          mut = np.random.randint(0,9)\n",
        "          ar_mut[i][j] = mut\n",
        "  return ar_mut\n"
      ],
      "execution_count": 0,
      "outputs": []
    },
    {
      "cell_type": "markdown",
      "metadata": {
        "id": "YfIYb2Fd5x9b",
        "colab_type": "text"
      },
      "source": [
        "**General replacement**"
      ]
    },
    {
      "cell_type": "code",
      "metadata": {
        "id": "XC3OY7orQRJu",
        "colab_type": "code",
        "colab": {}
      },
      "source": [
        "def replace(populasi, pm) :\n",
        "  new_pop = []\n",
        "  j = 0\n",
        "  while (j < len(populasi)) :\n",
        "    if (j == 0) :\n",
        "      new_pop.append(max_fitness(populasi))\n",
        "    else : \n",
        "      new_pop.append(mutasi(populasi,pm)[j])\n",
        "    j += 1\n",
        "  return new_pop"
      ],
      "execution_count": 0,
      "outputs": []
    },
    {
      "cell_type": "markdown",
      "metadata": {
        "id": "GbNerVFJ52TP",
        "colab_type": "text"
      },
      "source": [
        "**Driver program**"
      ]
    },
    {
      "cell_type": "code",
      "metadata": {
        "id": "L3S78uyPUIkQ",
        "colab_type": "code",
        "outputId": "fcf2163c-c540-4d0d-b321-765be6b42065",
        "colab": {
          "base_uri": "https://localhost:8080/",
          "height": 303
        }
      },
      "source": [
        "generasi = 100\n",
        "old_gen = generate_populasi(ukpop, gen) \n",
        "\n",
        "fit_plot = []\n",
        "\n",
        "for i in range(generasi) :\n",
        "  new_gen = np.copy(replace(old_gen,pm))\n",
        "  old_gen = np.copy(new_gen)\n",
        "  new_gen = np.copy(replace(old_gen,pm))\n",
        "  fit_plot.append(fitness(max_fitness(new_gen)))\n",
        "  \n",
        "individu_hasil = max_fitness(new_gen)\n",
        "nilai = phenotype(individu_hasil)\n",
        "x1 = nilai[0]\n",
        "x2 = nilai[1]\n",
        "print(\"(x1, x2) = \", nilai)\n",
        "val = ((4 - 2 * (x1 ** 2) + (x1 ** 4) / 3) * (x1 ** 2 + (x1 * x2) + (-4 + 4 * (x2 ** 2)) * (x2 ** 2)))\n",
        "print(\"f(x1, x2 ) = \", val)\n",
        "plt.plot(fit_plot)\n",
        "plt.show()"
      ],
      "execution_count": 100,
      "outputs": [
        {
          "output_type": "stream",
          "text": [
            "(x1, x2) =  [-1.3002933007058821, 0.925213655843137]\n",
            "f(x1, x2 ) =  -0.008304062626391882\n"
          ],
          "name": "stdout"
        },
        {
          "output_type": "display_data",
          "data": {
            "image/png": "[encoded data removed]",
            "text/plain": [
              "<Figure size 432x288 with 1 Axes>"
            ]
          },
          "metadata": {
            "tags": []
          }
        }
      ]
    },
    {
      "cell_type": "markdown",
      "metadata": {
        "id": "32X7A8mo57nO",
        "colab_type": "text"
      },
      "source": [
        "**The objective function**"
      ]
    },
    {
      "cell_type": "code",
      "metadata": {
        "id": "jx3jUzN9upDf",
        "colab_type": "code",
        "outputId": "ff39726e-2bab-4c28-a898-a7e0fa2d55cc",
        "colab": {
          "base_uri": "https://localhost:8080/",
          "height": 248
        }
      },
      "source": [
        "def f(x, y):\n",
        "    return ((4 - 2 * (x ** 2) + (x ** 4) / 3) * (x ** 2 + (x * y) + (-4 + 4 * (y ** 2)) * (y ** 2)))\n",
        "  \n",
        "x = np.linspace(-3, 3, 50)\n",
        "y = np.linspace(-2, 2, 50)\n",
        "X, Y = np.meshgrid(x, y)\n",
        "Z = f(X, Y)\n",
        "fig = plt.figure()\n",
        "ax = plt.axes(projection='3d')\n",
        "ax.contour3D(X, Y, Z, 1000, cmap='binary')\n",
        "ax.set_xlabel('x')\n",
        "ax.set_ylabel('y')\n",
        "ax.set_zlabel('z');\n",
        "\n"
      ],
      "execution_count": 97,
      "outputs": [
        {
          "output_type": "display_data",
          "data": {
            "image/png": "[encoded data removed]",
            "text/plain": [
              "<Figure size 432x288 with 1 Axes>"
            ]
          },
          "metadata": {
            "tags": []
          }
        }
      ]
    }
  ]
}